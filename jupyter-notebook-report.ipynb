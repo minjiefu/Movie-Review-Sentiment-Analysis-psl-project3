{
 "cells": [
  {
   "cell_type": "markdown",
   "id": "dd6b190e",
   "metadata": {},
   "source": [
    "## Section 1: Sentiment Classification Model"
   ]
  },
  {
   "cell_type": "markdown",
   "id": "cc0cd140",
   "metadata": {},
   "source": [
    "### Technical Details"
   ]
  },
  {
   "cell_type": "markdown",
   "id": "cf7e8559",
   "metadata": {},
   "source": [
    "This‬‭ section aims‬‭ to‬‭ construct‬‭ a‬‭ binary‬‭ classification model‬‭ to predict the sentiment of movie reviews.<br><br>\n",
    "I began by extracting 1536-dimensional embeddings from the training data to establish X_train as the input features, and assigned the \"sentiment\" column to y_train.\n",
    "Given that all features are embeddings of a consistent type, I opted not to perform any data pre-processing. <br><br>I proceeded by building a logistic regression model with a penalty parameter set to ‘elasticnet’, utilizing the solver 'saga' and a maximum iteration of 1000.\n",
    "To optimize the model, I employed GridSearchCV with 5-fold cross-validation to fine-tune the hyperparameters \"C\" and \"l1_ratio\". The parameter combination that yielded the highest \"roc_auc\" score was identified as C = 10 and l1_ratio = 0.1. Subsequently, I utilized this tuned model to predict the AUC score across all 5 splits."
   ]
  },
  {
   "cell_type": "markdown",
   "id": "c46a339d",
   "metadata": {},
   "source": [
    "### Performance Metrics‬‭"
   ]
  },
  {
   "cell_type": "markdown",
   "id": "ba0d7c48",
   "metadata": {},
   "source": [
    "\n",
    "‭- The computer system I used is: ‬<br> MacBook Pro 13.3\" Laptop - Apple M2 chip - 24GB Memory‬ - 1TB SSD.‬<br>\n",
    "‭- The performance and the execution time (including data loading) on the 5 splits are as follows:‬"
   ]
  },
  {
   "cell_type": "markdown",
   "id": "a2727324",
   "metadata": {},
   "source": [
    "| Split No. | AUC | Running Time |\n",
    "|:--------:|:--------:|:--------:|\n",
    "|&nbsp;&nbsp;&nbsp;1&nbsp;&nbsp;&nbsp;|&nbsp;&nbsp;&nbsp;&nbsp;&nbsp;&nbsp;0.9870943141872321&nbsp;&nbsp;&nbsp;&nbsp;&nbsp;&nbsp;|&nbsp;&nbsp;&nbsp;&nbsp;&nbsp;&nbsp;22.849359035491943&nbsp;&nbsp;&nbsp;&nbsp;&nbsp;&nbsp;|\n",
    "|&nbsp;&nbsp;&nbsp;2&nbsp;&nbsp;&nbsp;|&nbsp;&nbsp;&nbsp;&nbsp;&nbsp;&nbsp;0.9867909406872515&nbsp;&nbsp;&nbsp;&nbsp;&nbsp;&nbsp;|&nbsp;&nbsp;&nbsp;&nbsp;&nbsp;&nbsp;22.652480125427246&nbsp;&nbsp;&nbsp;&nbsp;&nbsp;&nbsp;|\n",
    "|&nbsp;&nbsp;&nbsp;3&nbsp;&nbsp;&nbsp;|&nbsp;&nbsp;&nbsp;&nbsp;&nbsp;&nbsp;0.9864186818834573&nbsp;&nbsp;&nbsp;&nbsp;&nbsp;&nbsp;|&nbsp;&nbsp;&nbsp;&nbsp;&nbsp;&nbsp;23.762585163116455&nbsp;&nbsp;&nbsp;&nbsp;&nbsp;&nbsp;|\n",
    "|&nbsp;&nbsp;&nbsp;4&nbsp;&nbsp;&nbsp;|&nbsp;&nbsp;&nbsp;&nbsp;&nbsp;&nbsp;0.9869783852661665&nbsp;&nbsp;&nbsp;&nbsp;&nbsp;&nbsp;|&nbsp;&nbsp;&nbsp;&nbsp;&nbsp;&nbsp;23.567501068115234&nbsp;&nbsp;&nbsp;&nbsp;&nbsp;&nbsp;|\n",
    "|&nbsp;&nbsp;&nbsp;5&nbsp;&nbsp;&nbsp;|&nbsp;&nbsp;&nbsp;&nbsp;&nbsp;&nbsp;0.9862663732679459&nbsp;&nbsp;&nbsp;&nbsp;&nbsp;&nbsp;|&nbsp;&nbsp;&nbsp;&nbsp;&nbsp;&nbsp;24.464163064956665&nbsp;&nbsp;&nbsp;&nbsp;&nbsp;&nbsp;|"
   ]
  },
  {
   "cell_type": "markdown",
   "id": "923b13b8",
   "metadata": {},
   "source": [
    "## Section 2: Interpretability Analysis"
   ]
  },
  {
   "cell_type": "markdown",
   "id": "268918b6",
   "metadata": {},
   "source": [
    "### Interpretability Approach"
   ]
  },
  {
   "cell_type": "markdown",
   "id": "db328806",
   "metadata": {},
   "source": [
    "First, I conducted the transformation of the reviews from the raw data (split 1) into BERT embeddings consisting of 768 dimensions. These BERT embeddings were designated as X, while the original OpenAI embeddings, encompassing 1536 dimensions, were designated as Y. The subsequent step involved training a linear regression model to align BERT embeddings with OpenAI embeddings.\n",
    "\n",
    "Following the alignment process, I utilized a pretrained sentiment classification model from section 1 to predict the overall sentiment probability of reviews in the test sample (X_test). The classification of reviews as positive or negative was determined based on a predetermined threshold set at 0.5.\n",
    "\n",
    "Subsequently, I randomly selected 5 positive reviews and 5 negative reviews, partitioned them into individual sentences, extracted the BERT embeddings for each sentence, and aligned them with OpenAI embeddings using the pretrained linear regression model. These aligned embeddings were then fed into the pretrained sentiment classification model to predict the sentence-level sentiment probability, thereby capturing the contribution of each sentence to the overall sentiment assessment.\n",
    "\n",
    "Finally, I identified and highlighted the sentences with significant contributions, defined as those with probabilities exceeding 0.99 for positive overall review predictions and falling below 0.01 for negative overall review predictions."
   ]
  },
  {
   "cell_type": "markdown",
   "id": "fb12fe71",
   "metadata": {},
   "source": [
    "### Effectiveness and Limitations"
   ]
  },
  {
   "cell_type": "markdown",
   "id": "108edda2",
   "metadata": {},
   "source": [
    "The above interpretability analysis presents several strengths and limitations:<br>\n",
    "<br>\n",
    "**Effectiveness:**<br>\n",
    "1.Sentence-Level Analysis: The analysis delves into the individual sentences within reviews, allowing for a granular examination of their sentiment contributions. This can provide valuable insights into the specific aspects of reviews that influence the overall sentiment.<br>\n",
    "2.Highlighting Significant Sentences: Identifying and highlighting sentences with high contributions to the overall sentiment facilitates a more focused interpretation of the sentiment analysis results. This can aid in understanding the key drivers of positive or negative sentiments within the movie reviews.<br>\n",
    "<br>\n",
    "**Limitations:**<br>\n",
    "1.Sentence-Level Sections: The interpretability of sentiment contributions at the sentence level may be limited when dealing with long and complex sentences. Breaking down the text into smaller sections for analysis may help improve the accuracy of sentiment interpretation.<br>\n",
    "2.Model Reliance: The interpretability heavily relies on the performance of the pretrained sentiment classification model and the linear regression alignment model. Any shortcomings or biases in these models can potentially impact the accuracy and reliability of the interpretability analysis.<br>\n",
    "3.Interpretation Subjectivity: Using a fixed threshold of 0.5 to determine positive or negative sentiments may oversimplify the sentiment analysis process. Also, the definition of “significant contribution” based on probabilities exceeding 0.99 for positive reviews and below 0.01 for negative reviews is arbitrary. Different thresholds may lead to varying interpretations of the results."
   ]
  },
  {
   "cell_type": "markdown",
   "id": "bd5588c4",
   "metadata": {},
   "source": [
    "### Code"
   ]
  },
  {
   "cell_type": "code",
   "execution_count": 1,
   "id": "e18612c7",
   "metadata": {},
   "outputs": [
    {
     "name": "stderr",
     "output_type": "stream",
     "text": [
      "[nltk_data] Downloading package punkt to /Users/minjie/nltk_data...\n",
      "[nltk_data]   Package punkt is already up-to-date!\n"
     ]
    }
   ],
   "source": [
    "# Import necessary packages\n",
    "import numpy as np\n",
    "import pandas as pd\n",
    "from sklearn.linear_model import LinearRegression\n",
    "from transformers import BertTokenizer, BertModel\n",
    "\n",
    "import joblib\n",
    "import requests\n",
    "from io import BytesIO\n",
    "\n",
    "import nltk\n",
    "nltk.download('punkt')\n",
    "from nltk.tokenize import sent_tokenize\n",
    "from IPython.display import HTML"
   ]
  },
  {
   "cell_type": "code",
   "execution_count": 2,
   "id": "83f197eb",
   "metadata": {},
   "outputs": [],
   "source": [
    "# Load pre-trained BERT tokenizer and model\n",
    "tokenizer = BertTokenizer.from_pretrained('bert-base-uncased')\n",
    "model = BertModel.from_pretrained('bert-base-uncased')"
   ]
  },
  {
   "cell_type": "code",
   "execution_count": 3,
   "id": "a4510b70",
   "metadata": {},
   "outputs": [],
   "source": [
    "# Functions to transfer texts to BERT embeddings\n",
    "def get_bert_embeddings(texts):\n",
    "    embeddings_list = []\n",
    "    for i, text in enumerate(texts):\n",
    "        # Call the text_to_bert_embedding function to get the embeddings for each text\n",
    "        embeddings = text_to_bert_embedding(text)\n",
    "        # Detach the gradient and convert the embeddings to a numpy array\n",
    "        embedding_array = embeddings.detach().numpy()\n",
    "        # Append the embedding array to the embeddings_list\n",
    "        embeddings_list.append(embedding_array)\n",
    "    return embeddings_list\n",
    "\n",
    "def text_to_bert_embedding(text):\n",
    "    # Tokenize the input text\n",
    "    inputs = tokenizer(text, return_tensors='pt', padding=True, truncation=True)\n",
    "    # Get the embeddings from the BERT model\n",
    "    outputs = model(**inputs)    \n",
    "    # Extract the last layer embeddings (CLS token) from the output\n",
    "    embeddings = outputs.last_hidden_state.mean(dim=1).squeeze()    \n",
    "    return embeddings"
   ]
  },
  {
   "cell_type": "code",
   "execution_count": 4,
   "id": "4a5853bb",
   "metadata": {},
   "outputs": [],
   "source": [
    "# Load data\n",
    "train_data = pd.read_csv(\"./F24_Proj3_data/split_1/train.csv\")\n",
    "test_data = pd.read_csv(\"./F24_Proj3_data/split_1/test.csv\")\n",
    "X_test = test_data.iloc[:, 2:].values"
   ]
  },
  {
   "cell_type": "code",
   "execution_count": 5,
   "id": "9e48769b",
   "metadata": {},
   "outputs": [],
   "source": [
    "# Pre trained and upload the BERT embeddings of all split 1 reviews to github\n",
    "# Download the BERT embeddings and denote it as X\n",
    "url1 = \"https://github.com/minjiefu/test/releases/download/bert_embeddings/bert_embeddings.npy\"\n",
    "response1 = requests.get(url1)\n",
    "X = np.load(BytesIO(response1.content), allow_pickle=True)"
   ]
  },
  {
   "cell_type": "code",
   "execution_count": 6,
   "id": "75540c94",
   "metadata": {},
   "outputs": [],
   "source": [
    "# Denote the OpenAI embeddings as Y\n",
    "Y = train_data.iloc[:, 3:].values"
   ]
  },
  {
   "cell_type": "code",
   "execution_count": 7,
   "id": "099baf47",
   "metadata": {},
   "outputs": [],
   "source": [
    "# Fit a Linear Regression Model to align BERT embeddings to OpenAI embeddings\n",
    "reg = LinearRegression().fit(X, Y)"
   ]
  },
  {
   "cell_type": "code",
   "execution_count": 8,
   "id": "263f1041",
   "metadata": {},
   "outputs": [],
   "source": [
    "# Load the Sentiment Classification Model trained in section 1\n",
    "url = \"https://raw.githubusercontent.com/minjiefu/test/main/trained_model.pkl\"\n",
    "response = requests.get(url)\n",
    "part1_model = joblib.load(BytesIO(response.content))"
   ]
  },
  {
   "cell_type": "code",
   "execution_count": 9,
   "id": "4d1ce13c",
   "metadata": {},
   "outputs": [],
   "source": [
    "# Classify the overall review prediction as positive or negative based on a threshold at 0.5\n",
    "y_pred = part1_model.predict_proba(X_test)[:,1]\n",
    "y_pred = np.where(y_pred >= 0.5, 1, 0)\n",
    "output = pd.DataFrame(data={'id': test_data[\"id\"], 'prob': y_pred})"
   ]
  },
  {
   "cell_type": "code",
   "execution_count": 10,
   "id": "49c251f2",
   "metadata": {},
   "outputs": [
    {
     "data": {
      "text/plain": [
       "713      (Review is of the original 1950's version not ...\n",
       "3515     It may be a remake of the 1937 film by Capra, ...\n",
       "5259     John Schelesinger's career as a film director ...\n",
       "8074     Finding the premise intriguing, and reading th...\n",
       "23636    Some people don't appreciate the magical eleme...\n",
       "Name: review, dtype: object"
      ]
     },
     "execution_count": 10,
     "metadata": {},
     "output_type": "execute_result"
    }
   ],
   "source": [
    "# Randomly select 5 positive reviews\n",
    "np.random.seed(42)\n",
    "selected_ids = output[output['prob'] == 1].sample(n=5, axis=0)['id']\n",
    "selected_positive_reviews = test_data[test_data['id'].isin(selected_ids)][\"review\"]\n",
    "selected_positive_reviews"
   ]
  },
  {
   "cell_type": "code",
   "execution_count": 11,
   "id": "89b48e76",
   "metadata": {},
   "outputs": [
    {
     "data": {
      "text/plain": [
       "483      I don't understand why this movie was released...\n",
       "799      Watching this Movie? l thought to myself, what...\n",
       "2888     For die-hard Judy Garland fans only. There are...\n",
       "7366     Good attempt at tackling the unconventional to...\n",
       "18457    Thunderbirds (2004) <br /><br />Director: Jona...\n",
       "Name: review, dtype: object"
      ]
     },
     "execution_count": 11,
     "metadata": {},
     "output_type": "execute_result"
    }
   ],
   "source": [
    "# Randomly select 5 negative reviews\n",
    "np.random.seed(42)\n",
    "selected_ids = output[output['prob'] == 0].sample(n=5, axis=0)['id']\n",
    "selected_negative_reviews = test_data[test_data['id'].isin(selected_ids)][\"review\"]\n",
    "selected_negative_reviews"
   ]
  },
  {
   "cell_type": "code",
   "execution_count": 12,
   "id": "d1952749",
   "metadata": {},
   "outputs": [
    {
     "data": {
      "text/html": [
       "<h2>Positive Review 1</h2><p>(Review is of the original 1950's version not the restored 1980's one) In a land where the king likes no one and no one likes the king a shepherdess and a chimney sweep from two nearby paintings come to life and run off.</p><p>A portrait of the king, who loves the shepherdess, kills the real king and takes his place.</p><p>A huge bird, the wonderbird of the title, acts as a hero of sorts and helps out our two lovers.<br /><br />This is a strange strange movie... no surreal, very very very surreal.<br /><br />The style of the background is very European while the characters are Fliescher meet Warner but early arty Warner of the non major characters.</p><p>They move in both realistic and cartoon like manners.<br /><br />This is an odd movie and it takes a bit to get into it but Peter Ustinov as the bird is a riot, his kids and the puppy are wonderful.</p><p style='background-color: yellow;'>There are cops in rubber ducks and a bear design that makes you smile.<br /><br />And there is deep philosophy in the film, about the existence of a world out there...out beyond a Metropolis subterranean city.<br /><br />This is a really neat movie.</p><p style='background-color: yellow;'>There is something just so odd and unique about it that rewards you if you stay with it for the whole ride.</p><p>Its not perfect but what the hell.<br /><br />This is a movie to search out.</p><p style='background-color: yellow;'>If your local bargain DVD bin has the capcom version (paired with Alice in Paris) buy it.</p><p style='background-color: yellow;'>It should run you under ten bucks, probably around five and the price is absolutely worth it especially when you realize it comes with two full length cartoons, two short cartoons and several neat commercials and other fun things.</p><h2>Positive Review 2</h2><p>It may be a remake of the 1937 film by Capra, but it is wrong to consider it only in that way!</p><p>It was supposed to expose Hilton's novel in a completely different way.</p><p>As a musical is excellent.</p><p>The scenery is terrific, the characters good and anyone like \\Leonard Maltin\\\" who considers the Bacharach music awful must be completely deaf!</p><p style='background-color: yellow;'>I strongly recommend it.\"</p><h2>Positive Review 3</h2><p style='background-color: yellow;'>John Schelesinger's career as a film director was extraordinary.</p><p>We had watched this film when it first came out, but wanted to see it again when it showed on cable recently.</p><p style='background-color: yellow;'>The film has a faded look, as one watches it today, but still, it is interesting because of the intense performances of the two principals.<br /><br />If you haven't seen it, please don't read any further.<br /><br />Chris and Daulton were two childhood friends that came from upper middle class backgrounds.</p><p>Chris went to enter a seminary to be a priest, but gives up.</p><p>Daulton became a small time drug user and trafficker.</p><p style='background-color: yellow;'>The two lives seem to run parallel as the pair become involved in an illegal activity that will prove their short sightedness.</p><p>In fact, it shows how both young men miscalculate in their attempt to fool the CIA and the Soviet Union.</p><p>These two, in a way, were so naive in thinking they could pull something that bigger, and better equipped people couldn't even imagine could be done.<br /><br />Chris' motivation is legitimate, as he feels outraged in discovering the underhanded role of the agency for which he works in dealing with other nations, in this case Australia, something he finds by sheer coincidence.</p><p>When he involves Daulton, we know the whole thing is doomed because no one into drugs, as he is, will ever amount to anything.</p><p>In fact, Chris and Daulton had no conception of the scope of what they are trying to do, or its consequences.<br /><br />Timothy Hutton was at this period of his career, an actor that was going places.</p><p style='background-color: yellow;'>He had proved he had talent with his work in other films, so it was a natural choice for Mr. Schlesinger to select him, a choice that pays off well.</p><p>Sean Penn, also was a young actor who showed an intensity, like one hadn't seen before.</p><p>In fact, at times, Mr. Penn, reminded us of a young Robert Mitchum in the making.</p><p>Both actors' contribution to the film is incredible.</p><p style='background-color: yellow;'>One can't think who could have played this duo but them.<br /><br />\\The Falcon and the Snowman\\\", while not up to the par with other great John Schlesinger's movies, is an interesting look to our not too distant past.\"</p><h2>Positive Review 4</h2><p style='background-color: yellow;'>Finding the premise intriguing, and reading the reviews, and being an Angel fan, I watched this movie.</p><p style='background-color: yellow;'>It's sexy and original, and quite entertaining.</p><p>David Boreanaz is Keith.</p><p>He's a hunky married man, stay at home Dad, and he feels a little inadequate in his marriage.</p><p style='background-color: yellow;'>He makes the mistake of penetrating a close circle of teenage girls who are fascinated with the idea of doing it with an older man.</p><p>They'll do anything to get into his bed, including beg, lie, and blackmail, but they mostly try to push his buttons.</p><p>The nuttiness that ensues sends Keith reeling, and pushes friendships to the edge.</p><p>David Boreanaz shows a little skin in this one-- and he's looking hot.</p><p>Yes-he plays a sleazy cheat - but he shows enough vulnerability and tenderness toward the goofy teens that you end up cheering for him in the end.</p><p>One more thing, when someone moans \\oh yeah, oh..oh..YEAH!</p><p>!\\\", it's hard to see them as a victim of rape.\"</p><h2>Positive Review 5</h2><p>Some people don't appreciate the magical elements in ROS,but they are what sets this series apart, that and the fact the producers actually decided to dress the actors in proper period clothes and armour--not anachronistic feathered caps,multi-coloured tights and plate armour!<br /><br />But I am really writing to comment on an earlier poster's article.</p><p>Um, Michael Praed did not leave ROS to do Jules Verne!</p><p>There are 15 years between these two series.</p><p style='background-color: yellow;'>Yup, I agree and Michael might well agree too that leaving ROS was not a good move--but it was a coveted Broadway role that tempted him in '84 and then Dynasty with its megabucks paychecks....</p>"
      ],
      "text/plain": [
       "<IPython.core.display.HTML object>"
      ]
     },
     "execution_count": 12,
     "metadata": {},
     "output_type": "execute_result"
    }
   ],
   "source": [
    "# For positive reviews\n",
    "html_str = \"\"\n",
    "for i in range(5):\n",
    "    # select 1 positive review\n",
    "    review = selected_positive_reviews.iloc[i]\n",
    "    # Divide the review into sentences\n",
    "    sentences = sent_tokenize(review)\n",
    "    # Get the BERT embeddings of these sentences\n",
    "    sentences_embeddings = get_bert_embeddings(sentences)\n",
    "    # Aligned the BERT embeddings of these sentences to OpenAI embeddings\n",
    "    aligned_embeddings = reg.predict(sentences_embeddings)\n",
    "    # Use the Sentiment Classification Model trained in section 1 to predict sentence-level sentiment probabilities\n",
    "    sentence_y_pred = part1_model.predict_proba(aligned_embeddings)[:, 1]\n",
    "    # Highlight the sentence if the sentiment probability is greater than 0.99\n",
    "    html_str += f\"<h2>Positive Review {i+1}</h2>\"\n",
    "    for sentence, prob in zip(sentences, sentence_y_pred):\n",
    "        if prob > 0.99:\n",
    "            html_str += f\"<p style='background-color: yellow;'>{sentence}</p>\"\n",
    "        else:\n",
    "            html_str += f\"<p>{sentence}</p>\"\n",
    "\n",
    "HTML(html_str)"
   ]
  },
  {
   "cell_type": "code",
   "execution_count": 13,
   "id": "e12bf109",
   "metadata": {},
   "outputs": [
    {
     "data": {
      "text/html": [
       "<h2>Negtive Review 1</h2><p>I don't understand why this movie was released, it looked like something that you show your mates after you borrowed your mums handycam she bought in 1987.</p><p style='background-color: yellow;'>I am Australian and work for a video store in the UK and thought that if an Aussie film made it into our store it can't be all bad... boy was I wrong!<br /><br />If anyone writes a good comment about this movie they are either lying or the makers of the film.<br /><br />The picture was BAD, the sound was HORRIBLE and the acting, oh the acting, it was the WORST acting in the HISTORY OF FILM.</p><p><br /><br />It makes me embarrassed and offended that they used the word 'Aussie' in the title because I am proud to be Australian and this movie is seen in other countries and may give people the wrong idea.<br /><br />Please anyone who reads this and has seen this movie, take the time to find other Aussie movies to watch because you could choose any one of them and it would be better than that one.<br /><br />I could have made a better film if I took a camera, filmed my but for an hour, ate the film waited for it to pass through my body then threw what came out at the television... no offence.<br /><br />DO NOT WATCH THIS FILM!!!!!!!!!</p><p>!</p><h2>Negtive Review 2</h2><p>Watching this Movie?</p><p style='background-color: yellow;'>l thought to myself, what a lot of garbage.</p><p>These girls must have rocks for brains for even agreeing to be part of it.</p><p style='background-color: yellow;'>Waste of time watching it, faint heavens l only hired it.</p><p style='background-color: yellow;'>The acting was below standard and story was unbearable.</p><p style='background-color: yellow;'>Anyone contemplating watching this film, please save your money.</p><p style='background-color: yellow;'>The film has no credit at all.</p><p style='background-color: yellow;'>l am a real film buff and this is worse than \\Attack of the Green Tomatoes\\\".<br /><br />l only hope that this piece of trash didn't cost too much to make.</p><p style='background-color: yellow;'>Money would have been better spent on the homeless people of the world.</p><p>l only hope there isn't a sequel in the pipeline.\"</p><h2>Negtive Review 3</h2><p>For die-hard Judy Garland fans only.</p><p>There are two (2) numbers that are really good -- one where she does a number with an older cleaning lady (you've all seen the pics), and a pretty good number at the very end.</p><p>There are a couple of scenes where the lines are funny.</p><p style='background-color: yellow;'>But, basically, the script is so bad and the movie so dated that it's hard not to cringe at the awfulness throughout.</p><p>But it's worth the 2.50 to rent the movie -- just be prepared to fast-forward it.</p><h2>Negtive Review 4</h2><p>Good attempt at tackling the unconventional topic of May-December romances.</p><p style='background-color: yellow;'>However, the treatment is totally unrealistic.</p><p>Sure, sixty-year old men can and do fall for younger women, but they're usually adult women with whom they share common interests and values and viewpoints ... not neurotic, immature near-underage girls.</p><p>Of course there are exceptions, and they come close to being called pedophiles!</p><p>Sorry RGV, but it's not credible that a sane and accomplished sexagenarian would throw away a comfortable family life and become a joke to his peers ... all for an 18-yr old that doesn't have a practical thought in her head and that behaves like an unstable escapee from a mental institution.</p><p>You don't have to have a PhD in Psychology to see that Amitabh's character is seduced by sex, and that the young woman has unresolved abandonment and daddy issues.<br /><br />As for the recurring scene of Vijay perched on the edge of a cliff, contemplating suicide, that's about as close as he comes to having anything in common with Jiah, by behaving like a smitten teenage boy.<br /><br />On a positive note: the actors did a good job, and cinematography good.</p><h2>Negtive Review 5</h2><p>Thunderbirds (2004) <br /><br />Director: Jonathan Frakes <br /><br />Starring: Bill Paxton, Ben Kingsley, Brady Corbet <br /><br />5\n",
       "4\n",
       "3\n",
       "2\n",
       "1!</p><p>Thunderbirds are GO!</p><p><br /><br />And so began Thunderbirds, a childhood favorite of mine.</p><p>When I heard that they were going to make a Thunderbirds movie, I was ecstatic.</p><p>I couldn't wait to see Thunderbird 2 roar in to save people, while Thunderbird 4 would dive deep into the\n",
       "you get the idea.</p><p style='background-color: yellow;'>I just couldn't wait.</p><p style='background-color: yellow;'>Then came August 2004, when the movie was finally released.</p><p>Critics panned it, but I still wanted to go.</p><p>After all, as long as the heart was in the same place, that was all that mattered to me.</p><p>So I sat down in the theater, the only teenager in a crowd of 50\n",
       "everyone else was over thirty and under ten.</p><p>Quite possibly the most awkward theater experience that I have ever had\n",
       " <br /><br />The movie (which is intended to be a prequel) focuses on Alan Tracy (Brady Corbet), the youngest of the Tracy family.</p><p>He spends his days wishing that he could be rescuing people like the rest of his family, but he's too young.</p><p>One day, he finally gets his chance when The Hood (Ben Kingsley) traps the rest of his family up on Thunderbird 5 (the space station).</p><p>This involves him having to outsmart The Hood's henchmen and rescue his family in time before The Hood can steal all of the money from the Bank of England.<br /><br />Trust me, the plot sounds like a regular episode of Thunderbirds when you read it on paper.</p><p>Once it gets put on to film\n",
       "what a mess we have on our hands.</p><p>First off, the film was intended for children, much like the original show was.</p><p>However, Gerry Anderson treated us like adults, and gave us plots that were fairly advanced for children's programming.</p><p style='background-color: yellow;'>This on the other hand, dumbs down the plot as it tries to make itself a ripoff of the Spy Kids franchise.</p><p style='background-color: yellow;'>The final product is a movie that tries to appeal to fans of the Thunderbirds series and children, while missing both entirely.</p><p>Lame jokes, cartoonish sounds, and stupid antics that no one really finds amusing are all over this movie, and I'm sure that Jonathan Frakes is wishing he'd never directed this.<br /><br />Over all, everyone gave a solid performance, considering the script that they were all given.</p><p>Ben Kingsley was exceptional as The Hood, playing the part extremely well.</p><p>My only complaint about the characters is about The Hood's henchmen, who are reduced to leftovers from old Looney Tunes cartoons, bumbling about as, amazingly enough, the kids take them on with ease.<br /><br />What's odd about this movie is that while I was watching the movie, I had fun.</p><p style='background-color: yellow;'>But once the lights went up, I realized that the movie was fairly bad, I was $8 lighter, and two hours of my time were now gone.</p><p>A guilty pleasure?</p><p>Perhaps.</p><p style='background-color: yellow;'>Nonetheless, Thunderbirds is a forgettable mess.</p><p style='background-color: yellow;'>Instead of a big \\go\\\", I'm going to have to recommend that you stay away from this movie.</p><p>If the rest of movie could have been like the first ten minutes of it, it would have been an incredible film worthy of the Thunderbirds name.</p><p>However, we get a movie that only die-hard Thunderbirds fans (if you'd like to watch your childhood torn to pieces) or the extremely bored should bother with.<br /><br />My rating for Thunderbirds is 1 ½ stars.\"</p>"
      ],
      "text/plain": [
       "<IPython.core.display.HTML object>"
      ]
     },
     "execution_count": 13,
     "metadata": {},
     "output_type": "execute_result"
    }
   ],
   "source": [
    "# For negative reviews\n",
    "html_str = \"\"\n",
    "for i in range(5):\n",
    "    review = selected_negative_reviews.iloc[i]\n",
    "    sentences = sent_tokenize(review)\n",
    "    sentences_embeddings = get_bert_embeddings(sentences)\n",
    "    aligned_embeddings = reg.predict(sentences_embeddings)\n",
    "    sentence_y_pred = part1_model.predict_proba(aligned_embeddings)[:, 1]\n",
    "    # Highlight the sentence if the sentiment probability is less than 0.01\n",
    "    html_str += f\"<h2>Negtive Review {i+1}</h2>\"\n",
    "    for sentence, prob in zip(sentences, sentence_y_pred):\n",
    "        if prob < 0.01:\n",
    "            html_str += f\"<p style='background-color: yellow;'>{sentence}</p>\"\n",
    "        else:\n",
    "            html_str += f\"<p>{sentence}</p>\"\n",
    "\n",
    "HTML(html_str)"
   ]
  },
  {
   "cell_type": "code",
   "execution_count": null,
   "id": "f68ed576",
   "metadata": {},
   "outputs": [],
   "source": []
  },
  {
   "cell_type": "code",
   "execution_count": null,
   "id": "57083f00",
   "metadata": {},
   "outputs": [],
   "source": []
  }
 ],
 "metadata": {
  "kernelspec": {
   "display_name": "Python 3 (ipykernel)",
   "language": "python",
   "name": "python3"
  },
  "language_info": {
   "codemirror_mode": {
    "name": "ipython",
    "version": 3
   },
   "file_extension": ".py",
   "mimetype": "text/x-python",
   "name": "python",
   "nbconvert_exporter": "python",
   "pygments_lexer": "ipython3",
   "version": "3.11.8"
  }
 },
 "nbformat": 4,
 "nbformat_minor": 5
}
